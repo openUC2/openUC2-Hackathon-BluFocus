{
 "cells": [
  {
   "cell_type": "code",
   "execution_count": 1,
   "metadata": {},
   "outputs": [
    {
     "name": "stdout",
     "output_type": "stream",
     "text": [
      "nan nan nan nan\n"
     ]
    },
    {
     "name": "stderr",
     "output_type": "stream",
     "text": [
      "/home/rudi/Documents/Hackathons/openUC2-Hackathon-BluFocus/PYTHON/ESP32Cam/VarianceCorrection.py:16: RuntimeWarning: invalid value encountered in double_scalars\n",
      "  mean_x = np.sum(xprime*frame)/intensitySum\n",
      "/home/rudi/Documents/Hackathons/openUC2-Hackathon-BluFocus/PYTHON/ESP32Cam/VarianceCorrection.py:17: RuntimeWarning: invalid value encountered in double_scalars\n",
      "  mean_y = np.sum(yprime*frame)/intensitySum\n",
      "/home/rudi/Documents/Hackathons/openUC2-Hackathon-BluFocus/PYTHON/ESP32Cam/VarianceCorrection.py:21: RuntimeWarning: invalid value encountered in double_scalars\n",
      "  varriance_x = np.sum((xprime**2)*frame)/intensitySum - mean_x**2\n",
      "/home/rudi/Documents/Hackathons/openUC2-Hackathon-BluFocus/PYTHON/ESP32Cam/VarianceCorrection.py:22: RuntimeWarning: invalid value encountered in double_scalars\n",
      "  varriance_y = np.sum((yprime**2)*frame)/intensitySum - mean_y**2\n"
     ]
    }
   ],
   "source": [
    "import numpy as np\n",
    "from VarianceCorrection import variance\n",
    "x, y = np.array(range(320)), np.array(range(240))\n",
    "test_frame = np.zeros((320,240))\n",
    "test_frame[90, :] = 2\n",
    "\n",
    "x, y, xm, ym = variance(x, y, test_frame, 0)\n",
    "print(x, y, xm, ym)"
   ]
  },
  {
   "cell_type": "code",
   "execution_count": 2,
   "metadata": {},
   "outputs": [
    {
     "data": {
      "text/plain": [
       "array([[0., 0., 0., ..., 0., 0., 0.],\n",
       "       [0., 0., 0., ..., 0., 0., 0.],\n",
       "       [0., 0., 0., ..., 0., 0., 0.],\n",
       "       ...,\n",
       "       [0., 0., 0., ..., 0., 0., 0.],\n",
       "       [0., 0., 0., ..., 0., 0., 0.],\n",
       "       [0., 0., 0., ..., 0., 0., 0.]])"
      ]
     },
     "execution_count": 2,
     "metadata": {},
     "output_type": "execute_result"
    }
   ],
   "source": [
    "test_frame"
   ]
  }
 ],
 "metadata": {
  "kernelspec": {
   "display_name": "def",
   "language": "python",
   "name": "python3"
  },
  "language_info": {
   "codemirror_mode": {
    "name": "ipython",
    "version": 3
   },
   "file_extension": ".py",
   "mimetype": "text/x-python",
   "name": "python",
   "nbconvert_exporter": "python",
   "pygments_lexer": "ipython3",
   "version": "3.9.16"
  },
  "orig_nbformat": 4
 },
 "nbformat": 4,
 "nbformat_minor": 2
}
